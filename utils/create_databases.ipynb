{
 "cells": [
  {
   "cell_type": "code",
   "execution_count": 1,
   "metadata": {},
   "outputs": [],
   "source": [
    "import sqlite3 as sl\n",
    "\n",
    "server = sl.connect('server.db')\n",
    "cursor = server.cursor()"
   ]
  },
  {
   "cell_type": "code",
   "execution_count": 2,
   "metadata": {},
   "outputs": [],
   "source": [
    "query = \"\"\"\n",
    "CREATE TABLE IF NOT EXISTS acc(\n",
    "    id INTEGER PRIMARY KEY AUTOINCREMENT,\n",
    "    login TEXT UNIQUE NOT NULL,\n",
    "    password TEXT NOT NULL,\n",
    "    api TEXT,\n",
    "    username TEXT UNIQUE NOT NULL,\n",
    "    mail TEXT UNIQUE NOT NULL,\n",
    "    reg_date TEXT NOT NULL,\n",
    "    first_name TEXT NOT NULL,\n",
    "    last_name TEXT NOT NULL,\n",
    "    graduation TEXT,\n",
    "    company TEXT\n",
    ")\n",
    "\"\"\"\n",
    "cursor.execute(query)\n",
    "server.commit()"
   ]
  },
  {
   "cell_type": "code",
   "execution_count": 4,
   "metadata": {},
   "outputs": [],
   "source": [
    "cursor.execute(\n",
    "    \"\"\"\n",
    "    INSERT INTO acc(login, password, username, mail, reg_date, first_name, last_name)\n",
    "    VALUES('testlogin', 'testpass', 'testusername', 'test@mail.ru', '11.11.2011', 'CHLEN', 'HUI')\n",
    "    \"\"\"\n",
    ")\n",
    "server.commit()"
   ]
  },
  {
   "cell_type": "code",
   "execution_count": 5,
   "metadata": {},
   "outputs": [
    {
     "data": {
      "text/plain": [
       "[(1,\n",
       "  'testlogin',\n",
       "  'testpass',\n",
       "  None,\n",
       "  'testusername',\n",
       "  'test@mail.ru',\n",
       "  '11.11.2011',\n",
       "  'CHLEN',\n",
       "  'HUI',\n",
       "  None,\n",
       "  None)]"
      ]
     },
     "execution_count": 5,
     "metadata": {},
     "output_type": "execute_result"
    }
   ],
   "source": [
    "cursor.execute(\"SELECT * FROM acc;\")\n",
    "cursor.fetchall()"
   ]
  },
  {
   "cell_type": "code",
   "execution_count": 7,
   "metadata": {},
   "outputs": [],
   "source": [
    "query = \"\"\"\n",
    "CREATE TABLE IF NOT EXISTS blocks(\n",
    "    id INTEGER PRIMARY KEY AUTOINCREMENT,\n",
    "    preferences TEXT NOT NULL,\n",
    "    descr TEXT\n",
    ")\n",
    "\"\"\"\n",
    "cursor.execute(query)\n",
    "server.commit()"
   ]
  },
  {
   "cell_type": "code",
   "execution_count": 8,
   "metadata": {},
   "outputs": [],
   "source": [
    "query = \"\"\"\n",
    "CREATE TABLE IF NOT EXISTS acc_block(\n",
    "    acc INTEGER,\n",
    "    block INTEGER,\n",
    "    FOREIGN KEY(acc) REFERENCES acc(id),\n",
    "    FOREIGN KEY(block) REFERENCES block(id)\n",
    ")\n",
    "\"\"\"\n",
    "cursor.execute(query)\n",
    "server.commit()"
   ]
  }
 ],
 "metadata": {
  "kernelspec": {
   "display_name": "base",
   "language": "python",
   "name": "python3"
  },
  "language_info": {
   "codemirror_mode": {
    "name": "ipython",
    "version": 3
   },
   "file_extension": ".py",
   "mimetype": "text/x-python",
   "name": "python",
   "nbconvert_exporter": "python",
   "pygments_lexer": "ipython3",
   "version": "3.9.15"
  },
  "orig_nbformat": 4
 },
 "nbformat": 4,
 "nbformat_minor": 2
}
