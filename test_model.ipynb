{
 "cells": [
  {
   "cell_type": "code",
   "execution_count": 1,
   "metadata": {},
   "outputs": [],
   "source": [
    "import torch\n",
    "import torch.nn as nn\n",
    "import torch.nn.functional as F"
   ]
  },
  {
   "cell_type": "code",
   "execution_count": 3,
   "metadata": {},
   "outputs": [
    {
     "data": {
      "text/plain": [
       "tensor([0.7311, 0.8808, 0.9526])"
      ]
     },
     "execution_count": 3,
     "metadata": {},
     "output_type": "execute_result"
    }
   ],
   "source": [
    "data = torch.Tensor([1., 2., 3.])\n",
    "\n",
    "F.sigmoid(data,)"
   ]
  },
  {
   "cell_type": "code",
   "execution_count": 13,
   "metadata": {},
   "outputs": [],
   "source": [
    "\n",
    "import torch\n",
    "import torch.nn as nn\n",
    "import torch.nn.functional as F\n",
    "\n",
    "\n",
    "class Model(nn.Module):\n",
    "\n",
    "    def __init__(self) -> None:\n",
    "        super(Model, self).__init__()\n",
    "        \n",
    "        \n",
    "        self.layer_1 = nn.Sequential(\n",
    "            nn.Linear(in_features=4, out_features=4, bias=False),\n",
    "        )\n",
    "        self.layer_2 = nn.Sequential(\n",
    "            nn.Linear(in_features=4, out_features=4, bias=False),\n",
    "            nn.Linear(in_features=4, out_features=4, bias=False)\n",
    "        )\n",
    "\n",
    "    def block_1(self, data):\n",
    "        self.block_1_layers = nn.Sequential(\n",
    "            nn.Linear(64, 32)\n",
    "        )\n",
    "        return self.block_1_layers(data)\n",
    "\n",
    "\n",
    "    def forward(self, data):\n",
    "        data = self.layer_1(data)\n",
    "        data = self.block_1(data)\n",
    "        return data\n"
   ]
  },
  {
   "cell_type": "code",
   "execution_count": 14,
   "metadata": {},
   "outputs": [
    {
     "name": "stdout",
     "output_type": "stream",
     "text": [
      "Model(\n",
      "  (layer_1): Sequential(\n",
      "    (0): Linear(in_features=4, out_features=4, bias=False)\n",
      "  )\n",
      "  (layer_2): Sequential(\n",
      "    (0): Linear(in_features=4, out_features=4, bias=False)\n",
      "    (1): Linear(in_features=4, out_features=4, bias=False)\n",
      "  )\n",
      ")\n"
     ]
    }
   ],
   "source": [
    "model = Model()\n",
    "print(model)"
   ]
  },
  {
   "cell_type": "code",
   "execution_count": 15,
   "metadata": {},
   "outputs": [
    {
     "name": "stdout",
     "output_type": "stream",
     "text": [
      "Parameter containing:\n",
      "tensor([[-0.3472,  0.3798, -0.3819, -0.1995],\n",
      "        [ 0.2743,  0.1120,  0.1799, -0.4946],\n",
      "        [ 0.0899, -0.2928, -0.1689, -0.2226],\n",
      "        [ 0.3388,  0.2206, -0.4926, -0.1186]], requires_grad=True)\n",
      "Parameter containing:\n",
      "tensor([[-0.0220,  0.2704, -0.1654,  0.0609],\n",
      "        [-0.0274,  0.4132,  0.4500, -0.0290],\n",
      "        [-0.1032,  0.2744,  0.0681,  0.1002],\n",
      "        [ 0.2448,  0.0250,  0.1848,  0.3944]], requires_grad=True)\n",
      "Parameter containing:\n",
      "tensor([[-0.4689,  0.1073, -0.3669,  0.1737],\n",
      "        [-0.1114,  0.1549,  0.2068, -0.4367],\n",
      "        [-0.4147, -0.2603, -0.0417,  0.3834],\n",
      "        [-0.0152,  0.1514,  0.3104, -0.4175]], requires_grad=True)\n"
     ]
    },
    {
     "data": {
      "text/plain": [
       "48"
      ]
     },
     "execution_count": 15,
     "metadata": {},
     "output_type": "execute_result"
    }
   ],
   "source": [
    "s = 0\n",
    "for i in model.parameters():\n",
    "    print(i)\n",
    "    s += i.numel()\n",
    "s"
   ]
  }
 ],
 "metadata": {
  "kernelspec": {
   "display_name": "base",
   "language": "python",
   "name": "python3"
  },
  "language_info": {
   "codemirror_mode": {
    "name": "ipython",
    "version": 3
   },
   "file_extension": ".py",
   "mimetype": "text/x-python",
   "name": "python",
   "nbconvert_exporter": "python",
   "pygments_lexer": "ipython3",
   "version": "3.10.11"
  },
  "orig_nbformat": 4
 },
 "nbformat": 4,
 "nbformat_minor": 2
}
