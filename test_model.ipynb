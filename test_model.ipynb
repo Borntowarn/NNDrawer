{
 "cells": [
  {
   "cell_type": "code",
   "execution_count": 1,
   "metadata": {},
   "outputs": [],
   "source": [
    "import torch\n",
    "import torch.nn as nn\n",
    "import torch.nn.functional as F"
   ]
  },
  {
   "cell_type": "code",
   "execution_count": 3,
   "metadata": {},
   "outputs": [
    {
     "data": {
      "text/plain": [
       "tensor([0.7311, 0.8808, 0.9526])"
      ]
     },
     "execution_count": 3,
     "metadata": {},
     "output_type": "execute_result"
    }
   ],
   "source": [
    "data = torch.Tensor([1., 2., 3.])\n",
    "\n",
    "F.sigmoid(data,)"
   ]
  },
  {
   "cell_type": "code",
   "execution_count": 3,
   "metadata": {},
   "outputs": [
    {
     "ename": "TypeError",
     "evalue": "torch._VariableFunctionsClass.adaptive_avg_pool1d is not a Module subclass",
     "output_type": "error",
     "traceback": [
      "\u001b[1;31m---------------------------------------------------------------------------\u001b[0m",
      "\u001b[1;31mTypeError\u001b[0m                                 Traceback (most recent call last)",
      "Cell \u001b[1;32mIn[3], line 1\u001b[0m\n\u001b[1;32m----> 1\u001b[0m seq \u001b[39m=\u001b[39m nn\u001b[39m.\u001b[39;49mSequential(\n\u001b[0;32m      2\u001b[0m     nn\u001b[39m.\u001b[39;49mLinear(\u001b[39m1\u001b[39;49m, \u001b[39m1\u001b[39;49m),\n\u001b[0;32m      3\u001b[0m     F\u001b[39m.\u001b[39;49madaptive_avg_pool1d\n\u001b[0;32m      4\u001b[0m )\n\u001b[0;32m      6\u001b[0m seq\n",
      "File \u001b[1;32mc:\\Users\\borntowarn\\miniconda3\\lib\\site-packages\\torch\\nn\\modules\\container.py:104\u001b[0m, in \u001b[0;36mSequential.__init__\u001b[1;34m(self, *args)\u001b[0m\n\u001b[0;32m    102\u001b[0m \u001b[39melse\u001b[39;00m:\n\u001b[0;32m    103\u001b[0m     \u001b[39mfor\u001b[39;00m idx, module \u001b[39min\u001b[39;00m \u001b[39menumerate\u001b[39m(args):\n\u001b[1;32m--> 104\u001b[0m         \u001b[39mself\u001b[39;49m\u001b[39m.\u001b[39;49madd_module(\u001b[39mstr\u001b[39;49m(idx), module)\n",
      "File \u001b[1;32mc:\\Users\\borntowarn\\miniconda3\\lib\\site-packages\\torch\\nn\\modules\\module.py:596\u001b[0m, in \u001b[0;36mModule.add_module\u001b[1;34m(self, name, module)\u001b[0m\n\u001b[0;32m    586\u001b[0m \u001b[39m\u001b[39m\u001b[39mr\u001b[39m\u001b[39m\"\"\"Adds a child module to the current module.\u001b[39;00m\n\u001b[0;32m    587\u001b[0m \n\u001b[0;32m    588\u001b[0m \u001b[39mThe module can be accessed as an attribute using the given name.\u001b[39;00m\n\u001b[1;32m   (...)\u001b[0m\n\u001b[0;32m    593\u001b[0m \u001b[39m    module (Module): child module to be added to the module.\u001b[39;00m\n\u001b[0;32m    594\u001b[0m \u001b[39m\"\"\"\u001b[39;00m\n\u001b[0;32m    595\u001b[0m \u001b[39mif\u001b[39;00m \u001b[39mnot\u001b[39;00m \u001b[39misinstance\u001b[39m(module, Module) \u001b[39mand\u001b[39;00m module \u001b[39mis\u001b[39;00m \u001b[39mnot\u001b[39;00m \u001b[39mNone\u001b[39;00m:\n\u001b[1;32m--> 596\u001b[0m     \u001b[39mraise\u001b[39;00m \u001b[39mTypeError\u001b[39;00m(\u001b[39m\"\u001b[39m\u001b[39m{}\u001b[39;00m\u001b[39m is not a Module subclass\u001b[39m\u001b[39m\"\u001b[39m\u001b[39m.\u001b[39mformat(\n\u001b[0;32m    597\u001b[0m         torch\u001b[39m.\u001b[39mtypename(module)))\n\u001b[0;32m    598\u001b[0m \u001b[39melif\u001b[39;00m \u001b[39mnot\u001b[39;00m \u001b[39misinstance\u001b[39m(name, \u001b[39mstr\u001b[39m):\n\u001b[0;32m    599\u001b[0m     \u001b[39mraise\u001b[39;00m \u001b[39mTypeError\u001b[39;00m(\u001b[39m\"\u001b[39m\u001b[39mmodule name should be a string. Got \u001b[39m\u001b[39m{}\u001b[39;00m\u001b[39m\"\u001b[39m\u001b[39m.\u001b[39mformat(\n\u001b[0;32m    600\u001b[0m         torch\u001b[39m.\u001b[39mtypename(name)))\n",
      "\u001b[1;31mTypeError\u001b[0m: torch._VariableFunctionsClass.adaptive_avg_pool1d is not a Module subclass"
     ]
    }
   ],
   "source": [
    "seq = nn.Sequential(\n",
    "    nn.Linear(1, 1),\n",
    "    F.adaptive_avg_pool1d\n",
    ")\n",
    "\n",
    "seq"
   ]
  }
 ],
 "metadata": {
  "kernelspec": {
   "display_name": "base",
   "language": "python",
   "name": "python3"
  },
  "language_info": {
   "codemirror_mode": {
    "name": "ipython",
    "version": 3
   },
   "file_extension": ".py",
   "mimetype": "text/x-python",
   "name": "python",
   "nbconvert_exporter": "python",
   "pygments_lexer": "ipython3",
   "version": "3.10.11"
  },
  "orig_nbformat": 4
 },
 "nbformat": 4,
 "nbformat_minor": 2
}
