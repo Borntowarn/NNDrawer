{
 "cells": [
  {
   "cell_type": "code",
   "execution_count": 13,
   "metadata": {},
   "outputs": [],
   "source": [
    "import sqlite3 as sl\n",
    "\n",
    "server = sl.connect('server.db')\n",
    "cursor = server.cursor()"
   ]
  },
  {
   "cell_type": "code",
   "execution_count": 14,
   "metadata": {},
   "outputs": [
    {
     "data": {
      "text/plain": [
       "[(1, 'admin', 'pass', 'OLEG', 'admin@mail.ru', None, None, None, None, None)]"
      ]
     },
     "execution_count": 14,
     "metadata": {},
     "output_type": "execute_result"
    }
   ],
   "source": [
    "cursor.execute(\"SELECT * FROM acc;\")\n",
    "cursor.fetchall()"
   ]
  },
  {
   "cell_type": "code",
   "execution_count": 19,
   "metadata": {},
   "outputs": [
    {
     "data": {
      "text/plain": [
       "[(1,\n",
       "  1,\n",
       "  '{\"name\":\"1234\",\"instance\":{\"nodes\":[{\"width\":150,\"height\":40,\"id\":\"1684055703862\",\"position\":{\"x\":450,\"y\":150},\"data\":{\"Doc\":null,\"Args\":{\"self\":{\"Type\":null,\"Default\":null},\"inplace\":{\"Type\":\"<class \\'bool\\'>\",\"Default\":\"False\"}},\"label\":\"ReLU\"},\"selected\":false,\"positionAbsolute\":{\"x\":450,\"y\":150},\"dragging\":false},{\"width\":150,\"height\":40,\"id\":\"1684055714461\",\"position\":{\"x\":450,\"y\":90},\"data\":{\"Doc\":null,\"Args\":{\"self\":{\"Type\":null,\"Default\":null},\"in_features\":{\"Type\":\"<class \\'int\\'>\",\"Default\":null},\"out_features\":{\"Type\":\"<class \\'int\\'>\",\"Default\":null},\"bias\":{\"Type\":\"<class \\'bool\\'>\",\"Default\":\"True\"},\"device\":{\"Type\":null,\"Default\":\"None\"},\"dtype\":{\"Type\":null,\"Default\":\"None\"}},\"label\":\"Linear\"},\"selected\":false,\"positionAbsolute\":{\"x\":450,\"y\":90},\"dragging\":false},{\"width\":150,\"height\":40,\"id\":\"1684055717039\",\"position\":{\"x\":450,\"y\":15},\"data\":{\"Doc\":null,\"Args\":{\"self\":{\"Type\":null,\"Default\":null},\"in1_features\":{\"Type\":\"<class \\'int\\'>\",\"Default\":null},\"in2_features\":{\"Type\":\"<class \\'int\\'>\",\"Default\":null},\"out_features\":{\"Type\":\"<class \\'int\\'>\",\"Default\":null},\"bias\":{\"Type\":\"<class \\'bool\\'>\",\"Default\":\"True\"},\"device\":{\"Type\":null,\"Default\":\"None\"},\"dtype\":{\"Type\":null,\"Default\":\"None\"}},\"label\":\"Bilinear\"},\"selected\":false,\"positionAbsolute\":{\"x\":450,\"y\":15},\"dragging\":false}],\"edges\":[{\"source\":\"1684055717039\",\"sourceHandle\":null,\"target\":\"1684055714461\",\"targetHandle\":null,\"id\":\"reactflow__edge-1684055717039-1684055714461\"},{\"source\":\"1684055714461\",\"sourceHandle\":null,\"target\":\"1684055703862\",\"targetHandle\":null,\"id\":\"reactflow__edge-1684055714461-1684055703862\"}],\"viewport\":{\"x\":-473.5,\"y\":103.29999999999998,\"zoom\":2}}}',\n",
       "  None),\n",
       " (2,\n",
       "  1,\n",
       "  '{\"name\":\"123\",\"instance\":{\"nodes\":[{\"width\":150,\"height\":40,\"id\":\"1684055703862\",\"position\":{\"x\":450,\"y\":150},\"data\":{\"Doc\":null,\"Args\":{\"self\":{\"Type\":null,\"Default\":null},\"inplace\":{\"Type\":\"<class \\'bool\\'>\",\"Default\":\"False\"}},\"label\":\"ReLU\"},\"selected\":false,\"positionAbsolute\":{\"x\":450,\"y\":150},\"dragging\":false},{\"width\":150,\"height\":40,\"id\":\"1684055714461\",\"position\":{\"x\":450,\"y\":90},\"data\":{\"Doc\":null,\"Args\":{\"self\":{\"Type\":null,\"Default\":null},\"in_features\":{\"Type\":\"<class \\'int\\'>\",\"Default\":null},\"out_features\":{\"Type\":\"<class \\'int\\'>\",\"Default\":null},\"bias\":{\"Type\":\"<class \\'bool\\'>\",\"Default\":\"True\"},\"device\":{\"Type\":null,\"Default\":\"None\"},\"dtype\":{\"Type\":null,\"Default\":\"None\"}},\"label\":\"Linear\"},\"selected\":false,\"positionAbsolute\":{\"x\":450,\"y\":90},\"dragging\":false},{\"width\":150,\"height\":40,\"id\":\"1684055717039\",\"position\":{\"x\":450,\"y\":15},\"data\":{\"Doc\":null,\"Args\":{\"self\":{\"Type\":null,\"Default\":null},\"in1_features\":{\"Type\":\"<class \\'int\\'>\",\"Default\":null},\"in2_features\":{\"Type\":\"<class \\'int\\'>\",\"Default\":null},\"out_features\":{\"Type\":\"<class \\'int\\'>\",\"Default\":null},\"bias\":{\"Type\":\"<class \\'bool\\'>\",\"Default\":\"True\"},\"device\":{\"Type\":null,\"Default\":\"None\"},\"dtype\":{\"Type\":null,\"Default\":\"None\"}},\"label\":\"Bilinear\"},\"selected\":false,\"positionAbsolute\":{\"x\":450,\"y\":15},\"dragging\":false}],\"edges\":[{\"source\":\"1684055717039\",\"sourceHandle\":null,\"target\":\"1684055714461\",\"targetHandle\":null,\"id\":\"reactflow__edge-1684055717039-1684055714461\"},{\"source\":\"1684055714461\",\"sourceHandle\":null,\"target\":\"1684055703862\",\"targetHandle\":null,\"id\":\"reactflow__edge-1684055714461-1684055703862\"}],\"viewport\":{\"x\":-473.5,\"y\":103.29999999999998,\"zoom\":2}}}',\n",
       "  None),\n",
       " (3,\n",
       "  1,\n",
       "  '{\"name\":\"123\",\"instance\":{\"nodes\":[{\"width\":150,\"height\":40,\"id\":\"1684055703862\",\"position\":{\"x\":450,\"y\":150},\"data\":{\"Doc\":null,\"Args\":{\"self\":{\"Type\":null,\"Default\":null},\"inplace\":{\"Type\":\"<class \\'bool\\'>\",\"Default\":\"False\"}},\"label\":\"ReLU\"},\"selected\":false,\"positionAbsolute\":{\"x\":450,\"y\":150},\"dragging\":false},{\"width\":150,\"height\":40,\"id\":\"1684055714461\",\"position\":{\"x\":450,\"y\":90},\"data\":{\"Doc\":null,\"Args\":{\"self\":{\"Type\":null,\"Default\":null},\"in_features\":{\"Type\":\"<class \\'int\\'>\",\"Default\":null},\"out_features\":{\"Type\":\"<class \\'int\\'>\",\"Default\":null},\"bias\":{\"Type\":\"<class \\'bool\\'>\",\"Default\":\"True\"},\"device\":{\"Type\":null,\"Default\":\"None\"},\"dtype\":{\"Type\":null,\"Default\":\"None\"}},\"label\":\"Linear\"},\"selected\":false,\"positionAbsolute\":{\"x\":450,\"y\":90},\"dragging\":false},{\"width\":150,\"height\":40,\"id\":\"1684055717039\",\"position\":{\"x\":450,\"y\":15},\"data\":{\"Doc\":null,\"Args\":{\"self\":{\"Type\":null,\"Default\":null},\"in1_features\":{\"Type\":\"<class \\'int\\'>\",\"Default\":null},\"in2_features\":{\"Type\":\"<class \\'int\\'>\",\"Default\":null},\"out_features\":{\"Type\":\"<class \\'int\\'>\",\"Default\":null},\"bias\":{\"Type\":\"<class \\'bool\\'>\",\"Default\":\"True\"},\"device\":{\"Type\":null,\"Default\":\"None\"},\"dtype\":{\"Type\":null,\"Default\":\"None\"}},\"label\":\"Bilinear\"},\"selected\":false,\"positionAbsolute\":{\"x\":450,\"y\":15},\"dragging\":false}],\"edges\":[{\"source\":\"1684055717039\",\"sourceHandle\":null,\"target\":\"1684055714461\",\"targetHandle\":null,\"id\":\"reactflow__edge-1684055717039-1684055714461\"},{\"source\":\"1684055714461\",\"sourceHandle\":null,\"target\":\"1684055703862\",\"targetHandle\":null,\"id\":\"reactflow__edge-1684055714461-1684055703862\"}],\"viewport\":{\"x\":-473.5,\"y\":103.29999999999998,\"zoom\":2}}}',\n",
       "  None)]"
      ]
     },
     "execution_count": 19,
     "metadata": {},
     "output_type": "execute_result"
    }
   ],
   "source": [
    "cursor.execute(\"SELECT * FROM projects;\")\n",
    "cursor.fetchall()"
   ]
  },
  {
   "cell_type": "code",
   "execution_count": 17,
   "metadata": {},
   "outputs": [
    {
     "data": {
      "text/plain": [
       "'{\"name\":\"123\",\"instance\":{\"nodes\":[{\"width\":150,\"height\":40,\"id\":\"1684055703862\",\"position\":{\"x\":450,\"y\":150},\"data\":{\"Doc\":null,\"Args\":{\"self\":{\"Type\":null,\"Default\":null},\"inplace\":{\"Type\":\"<class \\'bool\\'>\",\"Default\":\"False\"}},\"label\":\"ReLU\"},\"selected\":false,\"positionAbsolute\":{\"x\":450,\"y\":150},\"dragging\":false},{\"width\":150,\"height\":40,\"id\":\"1684055714461\",\"position\":{\"x\":450,\"y\":90},\"data\":{\"Doc\":null,\"Args\":{\"self\":{\"Type\":null,\"Default\":null},\"in_features\":{\"Type\":\"<class \\'int\\'>\",\"Default\":null},\"out_features\":{\"Type\":\"<class \\'int\\'>\",\"Default\":null},\"bias\":{\"Type\":\"<class \\'bool\\'>\",\"Default\":\"True\"},\"device\":{\"Type\":null,\"Default\":\"None\"},\"dtype\":{\"Type\":null,\"Default\":\"None\"}},\"label\":\"Linear\"},\"selected\":false,\"positionAbsolute\":{\"x\":450,\"y\":90},\"dragging\":false},{\"width\":150,\"height\":40,\"id\":\"1684055717039\",\"position\":{\"x\":450,\"y\":15},\"data\":{\"Doc\":null,\"Args\":{\"self\":{\"Type\":null,\"Default\":null},\"in1_features\":{\"Type\":\"<class \\'int\\'>\",\"Default\":null},\"in2_features\":{\"Type\":\"<class \\'int\\'>\",\"Default\":null},\"out_features\":{\"Type\":\"<class \\'int\\'>\",\"Default\":null},\"bias\":{\"Type\":\"<class \\'bool\\'>\",\"Default\":\"True\"},\"device\":{\"Type\":null,\"Default\":\"None\"},\"dtype\":{\"Type\":null,\"Default\":\"None\"}},\"label\":\"Bilinear\"},\"selected\":false,\"positionAbsolute\":{\"x\":450,\"y\":15},\"dragging\":false}],\"edges\":[{\"source\":\"1684055717039\",\"sourceHandle\":null,\"target\":\"1684055714461\",\"targetHandle\":null,\"id\":\"reactflow__edge-1684055717039-1684055714461\"},{\"source\":\"1684055714461\",\"sourceHandle\":null,\"target\":\"1684055703862\",\"targetHandle\":null,\"id\":\"reactflow__edge-1684055714461-1684055703862\"}],\"viewport\":{\"x\":-473.5,\"y\":103.29999999999998,\"zoom\":2}}}'"
      ]
     },
     "execution_count": 17,
     "metadata": {},
     "output_type": "execute_result"
    }
   ],
   "source": [
    "s = '{\"name\":\"123\",\"instance\":{\"nodes\":[{\"width\":150,\"height\":40,\"id\":\"1684055703862\",\"position\":{\"x\":450,\"y\":150},\"data\":{\"Doc\":null,\"Args\":{\"self\":{\"Type\":null,\"Default\":null},\"inplace\":{\"Type\":\"<class \\'bool\\'>\",\"Default\":\"False\"}},\"label\":\"ReLU\"},\"selected\":false,\"positionAbsolute\":{\"x\":450,\"y\":150},\"dragging\":false},{\"width\":150,\"height\":40,\"id\":\"1684055714461\",\"position\":{\"x\":450,\"y\":90},\"data\":{\"Doc\":null,\"Args\":{\"self\":{\"Type\":null,\"Default\":null},\"in_features\":{\"Type\":\"<class \\'int\\'>\",\"Default\":null},\"out_features\":{\"Type\":\"<class \\'int\\'>\",\"Default\":null},\"bias\":{\"Type\":\"<class \\'bool\\'>\",\"Default\":\"True\"},\"device\":{\"Type\":null,\"Default\":\"None\"},\"dtype\":{\"Type\":null,\"Default\":\"None\"}},\"label\":\"Linear\"},\"selected\":false,\"positionAbsolute\":{\"x\":450,\"y\":90},\"dragging\":false},{\"width\":150,\"height\":40,\"id\":\"1684055717039\",\"position\":{\"x\":450,\"y\":15},\"data\":{\"Doc\":null,\"Args\":{\"self\":{\"Type\":null,\"Default\":null},\"in1_features\":{\"Type\":\"<class \\'int\\'>\",\"Default\":null},\"in2_features\":{\"Type\":\"<class \\'int\\'>\",\"Default\":null},\"out_features\":{\"Type\":\"<class \\'int\\'>\",\"Default\":null},\"bias\":{\"Type\":\"<class \\'bool\\'>\",\"Default\":\"True\"},\"device\":{\"Type\":null,\"Default\":\"None\"},\"dtype\":{\"Type\":null,\"Default\":\"None\"}},\"label\":\"Bilinear\"},\"selected\":false,\"positionAbsolute\":{\"x\":450,\"y\":15},\"dragging\":false}],\"edges\":[{\"source\":\"1684055717039\",\"sourceHandle\":null,\"target\":\"1684055714461\",\"targetHandle\":null,\"id\":\"reactflow__edge-1684055717039-1684055714461\"},{\"source\":\"1684055714461\",\"sourceHandle\":null,\"target\":\"1684055703862\",\"targetHandle\":null,\"id\":\"reactflow__edge-1684055714461-1684055703862\"}],\"viewport\":{\"x\":-473.5,\"y\":103.29999999999998,\"zoom\":2}}}'\n",
    "s"
   ]
  },
  {
   "cell_type": "code",
   "execution_count": 18,
   "metadata": {},
   "outputs": [],
   "source": [
    "query = \"INSERT INTO projects(idUser, data, descr) VALUES (?, ?, ?)\"\n",
    "a = (1, s, None)\n",
    "cursor.execute(query, a)\n",
    "server.commit()"
   ]
  },
  {
   "cell_type": "code",
   "execution_count": 2,
   "metadata": {},
   "outputs": [
    {
     "data": {
      "text/plain": [
       "'{\"name\":\"1234\",\"instance\":{\"nodes\":[{\"width\":150,\"height\":40,\"id\":\"1684055703862\",\"position\":{\"x\":450,\"y\":150},\"data\":{\"Doc\":null,\"Args\":{\"self\":{\"Type\":null,\"Default\":null},\"inplace\":{\"Type\":\"<class \\'bool\\'>\",\"Default\":\"False\"}},\"label\":\"ReLU\"},\"selected\":false,\"positionAbsolute\":{\"x\":450,\"y\":150},\"dragging\":false},{\"width\":150,\"height\":40,\"id\":\"1684055714461\",\"position\":{\"x\":450,\"y\":90},\"data\":{\"Doc\":null,\"Args\":{\"self\":{\"Type\":null,\"Default\":null},\"in_features\":{\"Type\":\"<class \\'int\\'>\",\"Default\":null},\"out_features\":{\"Type\":\"<class \\'int\\'>\",\"Default\":null},\"bias\":{\"Type\":\"<class \\'bool\\'>\",\"Default\":\"True\"},\"device\":{\"Type\":null,\"Default\":\"None\"},\"dtype\":{\"Type\":null,\"Default\":\"None\"}},\"label\":\"Linear\"},\"selected\":false,\"positionAbsolute\":{\"x\":450,\"y\":90},\"dragging\":false},{\"width\":150,\"height\":40,\"id\":\"1684055717039\",\"position\":{\"x\":450,\"y\":15},\"data\":{\"Doc\":null,\"Args\":{\"self\":{\"Type\":null,\"Default\":null},\"in1_features\":{\"Type\":\"<class \\'int\\'>\",\"Default\":null},\"in2_features\":{\"Type\":\"<class \\'int\\'>\",\"Default\":null},\"out_features\":{\"Type\":\"<class \\'int\\'>\",\"Default\":null},\"bias\":{\"Type\":\"<class \\'bool\\'>\",\"Default\":\"True\"},\"device\":{\"Type\":null,\"Default\":\"None\"},\"dtype\":{\"Type\":null,\"Default\":\"None\"}},\"label\":\"Bilinear\"},\"selected\":false,\"positionAbsolute\":{\"x\":450,\"y\":15},\"dragging\":false}],\"edges\":[{\"source\":\"1684055717039\",\"sourceHandle\":null,\"target\":\"1684055714461\",\"targetHandle\":null,\"id\":\"reactflow__edge-1684055717039-1684055714461\"},{\"source\":\"1684055714461\",\"sourceHandle\":null,\"target\":\"1684055703862\",\"targetHandle\":null,\"id\":\"reactflow__edge-1684055714461-1684055703862\"}],\"viewport\":{\"x\":-473.5,\"y\":103.29999999999998,\"zoom\":2}}}'"
      ]
     },
     "execution_count": 2,
     "metadata": {},
     "output_type": "execute_result"
    }
   ],
   "source": []
  },
  {
   "cell_type": "code",
   "execution_count": 2,
   "metadata": {},
   "outputs": [],
   "source": [
    "query = \"\"\"\n",
    "CREATE TABLE IF NOT EXISTS acc(\n",
    "    id INTEGER PRIMARY KEY AUTOINCREMENT,\n",
    "    login TEXT UNIQUE NOT NULL,\n",
    "    password TEXT NOT NULL,\n",
    "    username TEXT UNIQUE NOT NULL,\n",
    "    mail TEXT UNIQUE NOT NULL,\n",
    "    reg_date TEXT,\n",
    "    first_name TEXT,\n",
    "    last_name TEXT,\n",
    "    graduation TEXT,\n",
    "    company TEXT\n",
    ")\n",
    "\"\"\"\n",
    "cursor.execute(query)\n",
    "server.commit()"
   ]
  },
  {
   "cell_type": "code",
   "execution_count": 3,
   "metadata": {},
   "outputs": [],
   "source": [
    "cursor.execute(\n",
    "    \"\"\"\n",
    "    INSERT INTO acc(login, password, username, mail)\n",
    "    VALUES('admin', 'pass', 'OLEG', 'admin@mail.ru')\n",
    "    \"\"\"\n",
    ")\n",
    "server.commit()"
   ]
  },
  {
   "cell_type": "code",
   "execution_count": 4,
   "metadata": {},
   "outputs": [
    {
     "data": {
      "text/plain": [
       "[(1, 'admin', 'pass', 'OLEG', 'admin@mail.ru', None, None, None, None, None)]"
      ]
     },
     "execution_count": 4,
     "metadata": {},
     "output_type": "execute_result"
    }
   ],
   "source": [
    "cursor.execute(\"SELECT * FROM acc;\")\n",
    "cursor.fetchall()"
   ]
  },
  {
   "cell_type": "code",
   "execution_count": 7,
   "metadata": {},
   "outputs": [],
   "source": [
    "query = \"\"\"\n",
    "CREATE TABLE IF NOT EXISTS blocks(\n",
    "    id INTEGER PRIMARY KEY AUTOINCREMENT,\n",
    "    idUser INTEGER NOT NULL,\n",
    "    data TEXT NOT NULL,\n",
    "    descr TEXT,\n",
    "    FOREIGN KEY(idUser) REFERENCES acc(id)\n",
    "    ON DELETE CASCADE\n",
    "    ON UPDATE CASCADE\n",
    ")\n",
    "\"\"\"\n",
    "cursor.execute(query)\n",
    "server.commit()"
   ]
  },
  {
   "cell_type": "code",
   "execution_count": 8,
   "metadata": {},
   "outputs": [],
   "source": [
    "query = \"\"\"\n",
    "CREATE TABLE IF NOT EXISTS projects(\n",
    "    id INTEGER PRIMARY KEY AUTOINCREMENT,\n",
    "    idUser INTEGER NOT NULL,\n",
    "    data TEXT NOT NULL,\n",
    "    descr TEXT,\n",
    "    FOREIGN KEY(idUser) REFERENCES acc(id)\n",
    "    ON DELETE CASCADE\n",
    "    ON UPDATE CASCADE\n",
    ")\n",
    "\"\"\"\n",
    "cursor.execute(query)\n",
    "server.commit()"
   ]
  }
 ],
 "metadata": {
  "kernelspec": {
   "display_name": "base",
   "language": "python",
   "name": "python3"
  },
  "language_info": {
   "codemirror_mode": {
    "name": "ipython",
    "version": 3
   },
   "file_extension": ".py",
   "mimetype": "text/x-python",
   "name": "python",
   "nbconvert_exporter": "python",
   "pygments_lexer": "ipython3",
   "version": "3.10.11"
  },
  "orig_nbformat": 4
 },
 "nbformat": 4,
 "nbformat_minor": 2
}
