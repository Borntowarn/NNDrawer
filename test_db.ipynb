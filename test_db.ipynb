{
 "cells": [
  {
   "cell_type": "code",
   "execution_count": 1,
   "metadata": {},
   "outputs": [],
   "source": [
    "import sqlite3 as sl\n",
    "\n",
    "server = sl.connect('server.db')\n",
    "cursor = server.cursor()"
   ]
  },
  {
   "cell_type": "code",
   "execution_count": 2,
   "metadata": {},
   "outputs": [],
   "source": [
    "query = \"\"\"\n",
    "CREATE TABLE IF NOT EXISTS acc(\n",
    "    id INTEGER PRIMARY KEY AUTOINCREMENT,\n",
    "    login TEXT UNIQUE NOT NULL,\n",
    "    password TEXT NOT NULL,\n",
    "    username TEXT UNIQUE NOT NULL,\n",
    "    mail TEXT UNIQUE NOT NULL,\n",
    "    reg_date TEXT,\n",
    "    first_name TEXT,\n",
    "    last_name TEXT,\n",
    "    graduation TEXT,\n",
    "    company TEXT\n",
    ")\n",
    "\"\"\"\n",
    "cursor.execute(query)\n",
    "server.commit()"
   ]
  },
  {
   "cell_type": "code",
   "execution_count": 3,
   "metadata": {},
   "outputs": [],
   "source": [
    "cursor.execute(\n",
    "    \"\"\"\n",
    "    INSERT INTO acc(login, password, username, mail)\n",
    "    VALUES('admin', 'pass', 'OLEG', 'admin@mail.ru')\n",
    "    \"\"\"\n",
    ")\n",
    "server.commit()"
   ]
  },
  {
   "cell_type": "code",
   "execution_count": 4,
   "metadata": {},
   "outputs": [
    {
     "data": {
      "text/plain": [
       "[(1, 'admin', 'pass', 'OLEG', 'admin@mail.ru', None, None, None, None, None)]"
      ]
     },
     "execution_count": 4,
     "metadata": {},
     "output_type": "execute_result"
    }
   ],
   "source": [
    "cursor.execute(\"SELECT * FROM acc;\")\n",
    "cursor.fetchall()"
   ]
  },
  {
   "cell_type": "code",
   "execution_count": 7,
   "metadata": {},
   "outputs": [],
   "source": [
    "query = \"\"\"\n",
    "CREATE TABLE IF NOT EXISTS blocks(\n",
    "    id INTEGER PRIMARY KEY AUTOINCREMENT,\n",
    "    idUser INTEGER NOT NULL,\n",
    "    data TEXT NOT NULL,\n",
    "    descr TEXT,\n",
    "    FOREIGN KEY(idUser) REFERENCES acc(id)\n",
    "    ON DELETE CASCADE\n",
    "    ON UPDATE CASCADE\n",
    ")\n",
    "\"\"\"\n",
    "cursor.execute(query)\n",
    "server.commit()"
   ]
  },
  {
   "cell_type": "code",
   "execution_count": 8,
   "metadata": {},
   "outputs": [],
   "source": [
    "query = \"\"\"\n",
    "CREATE TABLE IF NOT EXISTS projects(\n",
    "    id INTEGER PRIMARY KEY AUTOINCREMENT,\n",
    "    idUser INTEGER NOT NULL,\n",
    "    data TEXT NOT NULL,\n",
    "    descr TEXT,\n",
    "    FOREIGN KEY(idUser) REFERENCES acc(id)\n",
    "    ON DELETE CASCADE\n",
    "    ON UPDATE CASCADE\n",
    ")\n",
    "\"\"\"\n",
    "cursor.execute(query)\n",
    "server.commit()"
   ]
  }
 ],
 "metadata": {
  "kernelspec": {
   "display_name": "base",
   "language": "python",
   "name": "python3"
  },
  "language_info": {
   "codemirror_mode": {
    "name": "ipython",
    "version": 3
   },
   "file_extension": ".py",
   "mimetype": "text/x-python",
   "name": "python",
   "nbconvert_exporter": "python",
   "pygments_lexer": "ipython3",
   "version": "3.10.11"
  },
  "orig_nbformat": 4
 },
 "nbformat": 4,
 "nbformat_minor": 2
}
