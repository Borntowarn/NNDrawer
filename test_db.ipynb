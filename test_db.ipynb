{
 "cells": [
  {
   "cell_type": "code",
   "execution_count": 1,
   "metadata": {},
   "outputs": [],
   "source": [
    "import sqlite3 as sl\n",
    "\n",
    "db = sl.connect('server.db')\n",
    "cursor = db.cursor()"
   ]
  },
  {
   "cell_type": "code",
   "execution_count": 2,
   "metadata": {},
   "outputs": [
    {
     "ename": "ProgrammingError",
     "evalue": "Incorrect number of bindings supplied. The current statement uses 1, and there are 2 supplied.",
     "output_type": "error",
     "traceback": [
      "\u001b[1;31m---------------------------------------------------------------------------\u001b[0m",
      "\u001b[1;31mProgrammingError\u001b[0m                          Traceback (most recent call last)",
      "Cell \u001b[1;32mIn[2], line 1\u001b[0m\n\u001b[1;32m----> 1\u001b[0m cursor\u001b[39m.\u001b[39;49mexecute(\u001b[39m\"\"\"\u001b[39;49m\n\u001b[0;32m      2\u001b[0m \u001b[39m    SELECT (?) FROM acc\u001b[39;49m\n\u001b[0;32m      3\u001b[0m \u001b[39m\"\"\"\u001b[39;49m, (\u001b[39m'\u001b[39;49m\u001b[39mid\u001b[39;49m\u001b[39m'\u001b[39;49m, \u001b[39m'\u001b[39;49m\u001b[39mlogin\u001b[39;49m\u001b[39m'\u001b[39;49m))\u001b[39m.\u001b[39mfetchall()\n",
      "\u001b[1;31mProgrammingError\u001b[0m: Incorrect number of bindings supplied. The current statement uses 1, and there are 2 supplied."
     ]
    }
   ],
   "source": [
    "cursor.execute(\"\"\"\n",
    "    SELECT (?) FROM acc\n",
    "\"\"\", ('id', 'login')).fetchall()"
   ]
  },
  {
   "cell_type": "code",
   "execution_count": 2,
   "metadata": {},
   "outputs": [
    {
     "data": {
      "text/plain": [
       "[(1,\n",
       "  'testlogin',\n",
       "  'qwerty',\n",
       "  None,\n",
       "  'test',\n",
       "  'test@mail.ru',\n",
       "  '11.11.2011',\n",
       "  'test',\n",
       "  'HUI',\n",
       "  None,\n",
       "  None),\n",
       " (2,\n",
       "  'testlogin1',\n",
       "  'qwerty1',\n",
       "  None,\n",
       "  'test1',\n",
       "  'test1@mail.ru',\n",
       "  '11.11.2011',\n",
       "  'test',\n",
       "  'HUI',\n",
       "  None,\n",
       "  None)]"
      ]
     },
     "execution_count": 2,
     "metadata": {},
     "output_type": "execute_result"
    }
   ],
   "source": [
    "cursor.execute(\"\"\"\n",
    "    SELECT * FROM acc\n",
    "\"\"\").fetchall()"
   ]
  },
  {
   "cell_type": "code",
   "execution_count": 41,
   "metadata": {},
   "outputs": [
    {
     "ename": "OperationalError",
     "evalue": "table acc has no column named login2",
     "output_type": "error",
     "traceback": [
      "\u001b[1;31m---------------------------------------------------------------------------\u001b[0m",
      "\u001b[1;31mOperationalError\u001b[0m                          Traceback (most recent call last)",
      "Cell \u001b[1;32mIn[41], line 1\u001b[0m\n\u001b[1;32m----> 1\u001b[0m cursor\u001b[39m.\u001b[39;49mexecute(\n\u001b[0;32m      2\u001b[0m \u001b[39m    \u001b[39;49m\u001b[39m\"\"\"\u001b[39;49;00m\n\u001b[0;32m      3\u001b[0m \u001b[39m    INSERT INTO acc(login2, pass, username, mail, reg_date, first_name, last_name)\u001b[39;49;00m\n\u001b[0;32m      4\u001b[0m \u001b[39m    VALUES \u001b[39;49;00m\n\u001b[0;32m      5\u001b[0m \u001b[39m        ('testlogin1', 'qwerty1', 'test1', 'test1@mail.ru', '11.11.2011', 'test', 'HUI'),\u001b[39;49;00m\n\u001b[0;32m      6\u001b[0m \u001b[39m        ('testlogin2', 'qwerty2', 'test2', 'test2@mail.ru', '11.11.2011', 'test', 'HUI')\u001b[39;49;00m\n\u001b[0;32m      7\u001b[0m \u001b[39m    \"\"\"\u001b[39;49;00m\n\u001b[0;32m      8\u001b[0m )\n\u001b[0;32m      9\u001b[0m db\u001b[39m.\u001b[39mcommit()\n",
      "\u001b[1;31mOperationalError\u001b[0m: table acc has no column named login2"
     ]
    }
   ],
   "source": [
    "cursor.execute(\n",
    "    \"\"\"\n",
    "    INSERT INTO acc(login2, pass, username, mail, reg_date, first_name, last_name)\n",
    "    VALUES \n",
    "        ('testlogin1', 'qwerty1', 'test1', 'test1@mail.ru', '11.11.2011', 'test', 'HUI'),\n",
    "        ('testlogin2', 'qwerty2', 'test2', 'test2@mail.ru', '11.11.2011', 'test', 'HUI')\n",
    "    \"\"\"\n",
    ")\n",
    "db.commit()"
   ]
  },
  {
   "cell_type": "code",
   "execution_count": 17,
   "metadata": {},
   "outputs": [],
   "source": [
    "usernames = ['test', 'test1']"
   ]
  },
  {
   "cell_type": "code",
   "execution_count": 17,
   "metadata": {},
   "outputs": [],
   "source": [
    "from pydantic import BaseModel\n",
    "from typing import *\n",
    "class User(BaseModel):\n",
    "    login: str\n",
    "    passw: str\n",
    "    api: Optional[str] = None\n",
    "    username: str\n",
    "    mail: str\n",
    "    reg_date: str\n",
    "    first_name: str\n",
    "    last_name: str\n",
    "    graduation: Optional[str] = None\n",
    "    company: Optional[str] = None\n",
    "\n",
    "class UserIn(BaseModel):\n",
    "    login: Optional[str] = None\n",
    "    username: Optional[str] = None\n",
    "    mail: Optional[str] = None\n",
    "\n",
    "class UserOut(BaseModel):\n",
    "    api: Optional[str] = None\n",
    "    username: str\n",
    "    mail: str\n",
    "    first_name: str\n",
    "    last_name: str\n",
    "    graduation: Optional[str] = None\n",
    "    company: Optional[str] = None"
   ]
  },
  {
   "cell_type": "code",
   "execution_count": 18,
   "metadata": {},
   "outputs": [],
   "source": [
    "user = UserOut(username='a', mail='b', first_name='c', last_name='d')"
   ]
  },
  {
   "cell_type": "code",
   "execution_count": 27,
   "metadata": {},
   "outputs": [],
   "source": [
    "cols = ', '.join(user.dict(exclude_defaults=True).keys())\n",
    "vals = user.dict(exclude_defaults=True).values()"
   ]
  },
  {
   "cell_type": "code",
   "execution_count": 28,
   "metadata": {},
   "outputs": [
    {
     "data": {
      "text/plain": [
       "4"
      ]
     },
     "execution_count": 28,
     "metadata": {},
     "output_type": "execute_result"
    }
   ],
   "source": [
    "len(vals)"
   ]
  },
  {
   "cell_type": "code",
   "execution_count": 31,
   "metadata": {},
   "outputs": [
    {
     "data": {
      "text/plain": [
       "'INSERT INTO acc(username, mail, first_name, last_name) VALUES(?, ?, ?, ?)'"
      ]
     },
     "execution_count": 31,
     "metadata": {},
     "output_type": "execute_result"
    }
   ],
   "source": [
    "query = \"\"\"INSERT INTO acc({}) VALUES({})\"\"\"\n",
    "query.format(cols, ', '.join(['?']* len(vals)))"
   ]
  },
  {
   "cell_type": "code",
   "execution_count": 20,
   "metadata": {},
   "outputs": [
    {
     "data": {
      "text/plain": [
       "'username, mail, first_name, last_name'"
      ]
     },
     "execution_count": 20,
     "metadata": {},
     "output_type": "execute_result"
    }
   ],
   "source": [
    "cols"
   ]
  },
  {
   "cell_type": "code",
   "execution_count": 21,
   "metadata": {},
   "outputs": [
    {
     "data": {
      "text/plain": [
       "'a, b, c, d'"
      ]
     },
     "execution_count": 21,
     "metadata": {},
     "output_type": "execute_result"
    }
   ],
   "source": [
    "vals"
   ]
  },
  {
   "cell_type": "code",
   "execution_count": 12,
   "metadata": {},
   "outputs": [
    {
     "ename": "TypeError",
     "evalue": "sequence item 0: expected str instance, NoneType found",
     "output_type": "error",
     "traceback": [
      "\u001b[1;31m---------------------------------------------------------------------------\u001b[0m",
      "\u001b[1;31mTypeError\u001b[0m                                 Traceback (most recent call last)",
      "Cell \u001b[1;32mIn[12], line 1\u001b[0m\n\u001b[1;32m----> 1\u001b[0m \u001b[39m'\u001b[39;49m\u001b[39m, \u001b[39;49m\u001b[39m'\u001b[39;49m\u001b[39m.\u001b[39;49mjoin(u\u001b[39m.\u001b[39;49mdict()\u001b[39m.\u001b[39;49mvalues())\n",
      "\u001b[1;31mTypeError\u001b[0m: sequence item 0: expected str instance, NoneType found"
     ]
    }
   ],
   "source": [
    "', '.join(u.dict().values())"
   ]
  },
  {
   "cell_type": "code",
   "execution_count": 5,
   "metadata": {},
   "outputs": [
    {
     "data": {
      "text/plain": [
       "'api, username, mail, first_name, last_name, graduation, company'"
      ]
     },
     "execution_count": 5,
     "metadata": {},
     "output_type": "execute_result"
    }
   ],
   "source": [
    "', '.join(UserOut.__fields__)"
   ]
  },
  {
   "cell_type": "code",
   "execution_count": 52,
   "metadata": {},
   "outputs": [],
   "source": [
    "u = UserIn(login='1234')"
   ]
  },
  {
   "cell_type": "code",
   "execution_count": 68,
   "metadata": {},
   "outputs": [
    {
     "name": "stderr",
     "output_type": "stream",
     "text": [
      "C:\\Users\\kozlo\\AppData\\Local\\Temp\\ipykernel_23220\\2364136110.py:1: DeprecationWarning: UserIn.dict(): \"skip_defaults\" is deprecated and replaced by \"exclude_unset\"\n",
      "  tuple(u.dict(skip_defaults=True).items())[0]\n"
     ]
    },
    {
     "data": {
      "text/plain": [
       "('login', '1234')"
      ]
     },
     "execution_count": 68,
     "metadata": {},
     "output_type": "execute_result"
    }
   ],
   "source": [
    "tuple(u.dict(skip_defaults=True).items())[0]"
   ]
  },
  {
   "cell_type": "code",
   "execution_count": 54,
   "metadata": {},
   "outputs": [
    {
     "ename": "ValueError",
     "evalue": "too many values to unpack (expected 2)",
     "output_type": "error",
     "traceback": [
      "\u001b[1;31m---------------------------------------------------------------------------\u001b[0m",
      "\u001b[1;31mValueError\u001b[0m                                Traceback (most recent call last)",
      "Cell \u001b[1;32mIn[54], line 1\u001b[0m\n\u001b[1;32m----> 1\u001b[0m a, v \u001b[39m=\u001b[39m u\u001b[39m.\u001b[39mdict()\u001b[39m.\u001b[39mitems()\n\u001b[0;32m      2\u001b[0m \u001b[39mprint\u001b[39m(a, v)\n",
      "\u001b[1;31mValueError\u001b[0m: too many values to unpack (expected 2)"
     ]
    }
   ],
   "source": [
    "a, v = u.dict().items()\n",
    "print(a, v)"
   ]
  },
  {
   "cell_type": "code",
   "execution_count": 40,
   "metadata": {},
   "outputs": [
    {
     "ename": "OperationalError",
     "evalue": "no such column: ids",
     "output_type": "error",
     "traceback": [
      "\u001b[1;31m---------------------------------------------------------------------------\u001b[0m",
      "\u001b[1;31mOperationalError\u001b[0m                          Traceback (most recent call last)",
      "Cell \u001b[1;32mIn[40], line 4\u001b[0m\n\u001b[0;32m      2\u001b[0m     cursor\u001b[39m.\u001b[39mexecute(\u001b[39mf\u001b[39m\u001b[39m'\u001b[39m\u001b[39mSELECT * FROM acc WHERE ids = 1\u001b[39m\u001b[39m'\u001b[39m)\n\u001b[0;32m      3\u001b[0m \u001b[39mexcept\u001b[39;00m sl\u001b[39m.\u001b[39mOperationalError \u001b[39mas\u001b[39;00m e:\n\u001b[1;32m----> 4\u001b[0m     \u001b[39mraise\u001b[39;00m e\n",
      "Cell \u001b[1;32mIn[40], line 2\u001b[0m\n\u001b[0;32m      1\u001b[0m \u001b[39mtry\u001b[39;00m:\n\u001b[1;32m----> 2\u001b[0m     cursor\u001b[39m.\u001b[39;49mexecute(\u001b[39mf\u001b[39;49m\u001b[39m'\u001b[39;49m\u001b[39mSELECT * FROM acc WHERE ids = 1\u001b[39;49m\u001b[39m'\u001b[39;49m)\n\u001b[0;32m      3\u001b[0m \u001b[39mexcept\u001b[39;00m sl\u001b[39m.\u001b[39mOperationalError \u001b[39mas\u001b[39;00m e:\n\u001b[0;32m      4\u001b[0m     \u001b[39mraise\u001b[39;00m e\n",
      "\u001b[1;31mOperationalError\u001b[0m: no such column: ids"
     ]
    }
   ],
   "source": [
    "try:\n",
    "    cursor.execute(f'SELECT * FROM acc WHERE ids = 1')\n",
    "except sl.OperationalError as e:\n",
    "    raise e"
   ]
  },
  {
   "cell_type": "code",
   "execution_count": 42,
   "metadata": {},
   "outputs": [],
   "source": [
    "acc_columns = [\n",
    "    i[1] \n",
    "    for i in cursor.execute(\"PRAGMA table_info(acc)\").fetchall()\n",
    "]"
   ]
  },
  {
   "cell_type": "code",
   "execution_count": 43,
   "metadata": {},
   "outputs": [
    {
     "data": {
      "text/plain": [
       "{'id': 1,\n",
       " 'login': 'testlogin',\n",
       " 'pass': 'qwerty',\n",
       " 'api': None,\n",
       " 'username': 'test',\n",
       " 'mail': 'test@mail.ru',\n",
       " 'reg_date': '11.11.2011',\n",
       " 'first_name': 'test',\n",
       " 'last_name': 'HUI',\n",
       " 'graduation': None,\n",
       " 'company': None}"
      ]
     },
     "execution_count": 43,
     "metadata": {},
     "output_type": "execute_result"
    }
   ],
   "source": [
    "dict(\n",
    "    zip(\n",
    "        acc_columns,\n",
    "        cursor.execute(f'SELECT * FROM acc WHERE id = 1').fetchone()\n",
    "    )\n",
    ")"
   ]
  },
  {
   "cell_type": "code",
   "execution_count": 33,
   "metadata": {},
   "outputs": [
    {
     "data": {
      "text/plain": [
       "[(1,\n",
       "  'testlogin',\n",
       "  'qwerty',\n",
       "  None,\n",
       "  'test',\n",
       "  'test@mail.ru',\n",
       "  '11.11.2011',\n",
       "  'test',\n",
       "  'HUI',\n",
       "  None,\n",
       "  None),\n",
       " None]"
      ]
     },
     "execution_count": 33,
     "metadata": {},
     "output_type": "execute_result"
    }
   ],
   "source": [
    "[cursor.execute(f'SELECT * FROM acc WHERE id = {i}').fetchone() for i in (1, 3)]"
   ]
  },
  {
   "cell_type": "code",
   "execution_count": 37,
   "metadata": {},
   "outputs": [
    {
     "data": {
      "text/plain": [
       "['id',\n",
       " 'login',\n",
       " 'pass',\n",
       " 'api',\n",
       " 'username',\n",
       " 'mail',\n",
       " 'reg_date',\n",
       " 'first_name',\n",
       " 'last_name',\n",
       " 'graduation',\n",
       " 'company']"
      ]
     },
     "execution_count": 37,
     "metadata": {},
     "output_type": "execute_result"
    }
   ],
   "source": [
    "[i[1] for i in cursor.execute(\"PRAGMA table_info(acc)\").fetchall()]"
   ]
  },
  {
   "cell_type": "code",
   "execution_count": 22,
   "metadata": {},
   "outputs": [
    {
     "data": {
      "text/plain": [
       "[(1,\n",
       "  'testlogin',\n",
       "  'qwerty',\n",
       "  None,\n",
       "  'test',\n",
       "  'test@mail.ru',\n",
       "  '11.11.2011',\n",
       "  'test',\n",
       "  'HUI',\n",
       "  None,\n",
       "  None),\n",
       " (2,\n",
       "  'testlogin1',\n",
       "  'qwerty1',\n",
       "  None,\n",
       "  'test1',\n",
       "  'test1@mail.ru',\n",
       "  '11.11.2011',\n",
       "  'test',\n",
       "  'HUI',\n",
       "  None,\n",
       "  None)]"
      ]
     },
     "execution_count": 22,
     "metadata": {},
     "output_type": "execute_result"
    }
   ],
   "source": [
    "[cursor.execute(f'SELECT * FROM acc WHERE username = ?;', (i,)).fetchone() for i in usernames]"
   ]
  },
  {
   "cell_type": "code",
   "execution_count": 23,
   "metadata": {},
   "outputs": [],
   "source": [
    "query = \"\"\"\n",
    "    INSERT INTO acc(login, pass, api, username, mail, reg_date, first_name, last_name, graduation, company)\n",
    "    VALUES(?, ?, ?, ?, ?, ?, ?, ?, ?, ?)\n",
    "\"\"\""
   ]
  }
 ],
 "metadata": {
  "kernelspec": {
   "display_name": "base",
   "language": "python",
   "name": "python3"
  },
  "language_info": {
   "codemirror_mode": {
    "name": "ipython",
    "version": 3
   },
   "file_extension": ".py",
   "mimetype": "text/x-python",
   "name": "python",
   "nbconvert_exporter": "python",
   "pygments_lexer": "ipython3",
   "version": "3.9.15"
  },
  "orig_nbformat": 4
 },
 "nbformat": 4,
 "nbformat_minor": 2
}
